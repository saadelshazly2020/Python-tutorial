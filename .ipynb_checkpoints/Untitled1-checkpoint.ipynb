{
 "cells": [
  {
   "cell_type": "code",
   "execution_count": 1,
   "metadata": {},
   "outputs": [],
   "source": [
    "import pandas as pd"
   ]
  },
  {
   "cell_type": "code",
   "execution_count": 3,
   "metadata": {},
   "outputs": [
    {
     "data": {
      "text/html": [
       "<div>\n",
       "<style scoped>\n",
       "    .dataframe tbody tr th:only-of-type {\n",
       "        vertical-align: middle;\n",
       "    }\n",
       "\n",
       "    .dataframe tbody tr th {\n",
       "        vertical-align: top;\n",
       "    }\n",
       "\n",
       "    .dataframe thead th {\n",
       "        text-align: right;\n",
       "    }\n",
       "</style>\n",
       "<table border=\"1\" class=\"dataframe\">\n",
       "  <thead>\n",
       "    <tr style=\"text-align: right;\">\n",
       "      <th></th>\n",
       "      <th>MarriageContractID</th>\n",
       "      <th>ReferenceIDFromMOj</th>\n",
       "      <th>SendingContractToCourtDate</th>\n",
       "      <th>RetryCount</th>\n",
       "      <th>ContractDate</th>\n",
       "      <th>ContractConfirmedDate</th>\n",
       "      <th>DowryInKindDelyedDate</th>\n",
       "      <th>BeforeWeddingDowryInKindDelyedDate</th>\n",
       "      <th>UpdatedAt</th>\n",
       "      <th>MarriageContractStatusID</th>\n",
       "      <th>...</th>\n",
       "      <th>DowryInKindDelayed</th>\n",
       "      <th>BeforeWeddingFinancialDowryDelayDate</th>\n",
       "      <th>husbandNIN</th>\n",
       "      <th>HusbandMobile</th>\n",
       "      <th>HusbanName</th>\n",
       "      <th>WifeName</th>\n",
       "      <th>wifeNIN</th>\n",
       "      <th>DOB</th>\n",
       "      <th>Authname</th>\n",
       "      <th>AuthMobile</th>\n",
       "    </tr>\n",
       "  </thead>\n",
       "  <tbody>\n",
       "    <tr>\n",
       "      <th>0</th>\n",
       "      <td>1</td>\n",
       "      <td>NaN</td>\n",
       "      <td>NaN</td>\n",
       "      <td>NaN</td>\n",
       "      <td>21-05-2019 18:00</td>\n",
       "      <td>NaN</td>\n",
       "      <td>NaN</td>\n",
       "      <td>NaN</td>\n",
       "      <td>21-05-2019 14:03</td>\n",
       "      <td>8</td>\n",
       "      <td>...</td>\n",
       "      <td>NaN</td>\n",
       "      <td>NaN</td>\n",
       "      <td>1089114308</td>\n",
       "      <td>966555333541</td>\n",
       "      <td>سلمان محمد مصطفى السوادي</td>\n",
       "      <td>رفعه عبدالله سعيد الشهراني</td>\n",
       "      <td>1035369337</td>\n",
       "      <td>1964-11-05</td>\n",
       "      <td>عبدالعزيز عايض عون المطيري</td>\n",
       "      <td>555336693.0</td>\n",
       "    </tr>\n",
       "    <tr>\n",
       "      <th>1</th>\n",
       "      <td>2</td>\n",
       "      <td>NaN</td>\n",
       "      <td>NaN</td>\n",
       "      <td>NaN</td>\n",
       "      <td>21-05-2019 23:00</td>\n",
       "      <td>NaN</td>\n",
       "      <td>NaN</td>\n",
       "      <td>NaN</td>\n",
       "      <td>22-05-2019 23:08</td>\n",
       "      <td>8</td>\n",
       "      <td>...</td>\n",
       "      <td>NaN</td>\n",
       "      <td>NaN</td>\n",
       "      <td>2081075943</td>\n",
       "      <td>966554495581</td>\n",
       "      <td>ياسر عمار محمد فتحي خلف</td>\n",
       "      <td>ياسمين - - القواسمه</td>\n",
       "      <td>2045390867</td>\n",
       "      <td>1988-01-01</td>\n",
       "      <td>عبدالعزيز عايض عون المطيري</td>\n",
       "      <td>555336693.0</td>\n",
       "    </tr>\n",
       "    <tr>\n",
       "      <th>2</th>\n",
       "      <td>3</td>\n",
       "      <td>1257409.0</td>\n",
       "      <td>NaN</td>\n",
       "      <td>NaN</td>\n",
       "      <td>23-05-2019 21:00</td>\n",
       "      <td>NaN</td>\n",
       "      <td>NaN</td>\n",
       "      <td>NaN</td>\n",
       "      <td>03-07-2019 00:37</td>\n",
       "      <td>6</td>\n",
       "      <td>...</td>\n",
       "      <td>NaN</td>\n",
       "      <td>NaN</td>\n",
       "      <td>1070603368</td>\n",
       "      <td>550112123</td>\n",
       "      <td>ممدوح مطر بن خلف العنزي</td>\n",
       "      <td>ريم عبدالله نازل العنزي</td>\n",
       "      <td>1107591040</td>\n",
       "      <td>2000-04-23</td>\n",
       "      <td>مرجي سليمان هليل العنزي</td>\n",
       "      <td>503400543.0</td>\n",
       "    </tr>\n",
       "    <tr>\n",
       "      <th>3</th>\n",
       "      <td>4</td>\n",
       "      <td>1257403.0</td>\n",
       "      <td>51:58.3</td>\n",
       "      <td>NaN</td>\n",
       "      <td>22-05-2019 18:00</td>\n",
       "      <td>11-02-2020 07:51</td>\n",
       "      <td>NaN</td>\n",
       "      <td>NaN</td>\n",
       "      <td>11-02-2020 07:51</td>\n",
       "      <td>6</td>\n",
       "      <td>...</td>\n",
       "      <td>NaN</td>\n",
       "      <td>NaN</td>\n",
       "      <td>2286891011</td>\n",
       "      <td>535508999</td>\n",
       "      <td>طارق احمد  عبد المجيد</td>\n",
       "      <td>ساره - - المسلط</td>\n",
       "      <td>2158803235</td>\n",
       "      <td>2000-01-01</td>\n",
       "      <td>عبدالعزيز عايض عون المطيري</td>\n",
       "      <td>555336693.0</td>\n",
       "    </tr>\n",
       "    <tr>\n",
       "      <th>4</th>\n",
       "      <td>5</td>\n",
       "      <td>NaN</td>\n",
       "      <td>NaN</td>\n",
       "      <td>NaN</td>\n",
       "      <td>04-06-2019 19:00</td>\n",
       "      <td>NaN</td>\n",
       "      <td>NaN</td>\n",
       "      <td>NaN</td>\n",
       "      <td>05-06-2019 19:08</td>\n",
       "      <td>8</td>\n",
       "      <td>...</td>\n",
       "      <td>NaN</td>\n",
       "      <td>NaN</td>\n",
       "      <td>1066113190</td>\n",
       "      <td>966557732205</td>\n",
       "      <td>زياد مطلق غريب الظفيري</td>\n",
       "      <td>نجاح فهد ابن غريب الظفيري</td>\n",
       "      <td>1093025383</td>\n",
       "      <td>1996-08-31</td>\n",
       "      <td>مرجي سليمان هليل العنزي</td>\n",
       "      <td>503400543.0</td>\n",
       "    </tr>\n",
       "  </tbody>\n",
       "</table>\n",
       "<p>5 rows × 21 columns</p>\n",
       "</div>"
      ],
      "text/plain": [
       "   MarriageContractID  ReferenceIDFromMOj SendingContractToCourtDate  \\\n",
       "0                   1                 NaN                        NaN   \n",
       "1                   2                 NaN                        NaN   \n",
       "2                   3           1257409.0                        NaN   \n",
       "3                   4           1257403.0                    51:58.3   \n",
       "4                   5                 NaN                        NaN   \n",
       "\n",
       "   RetryCount      ContractDate ContractConfirmedDate DowryInKindDelyedDate  \\\n",
       "0         NaN  21-05-2019 18:00                   NaN                   NaN   \n",
       "1         NaN  21-05-2019 23:00                   NaN                   NaN   \n",
       "2         NaN  23-05-2019 21:00                   NaN                   NaN   \n",
       "3         NaN  22-05-2019 18:00      11-02-2020 07:51                   NaN   \n",
       "4         NaN  04-06-2019 19:00                   NaN                   NaN   \n",
       "\n",
       "  BeforeWeddingDowryInKindDelyedDate         UpdatedAt  \\\n",
       "0                                NaN  21-05-2019 14:03   \n",
       "1                                NaN  22-05-2019 23:08   \n",
       "2                                NaN  03-07-2019 00:37   \n",
       "3                                NaN  11-02-2020 07:51   \n",
       "4                                NaN  05-06-2019 19:08   \n",
       "\n",
       "   MarriageContractStatusID  ...  DowryInKindDelayed  \\\n",
       "0                         8  ...                 NaN   \n",
       "1                         8  ...                 NaN   \n",
       "2                         6  ...                 NaN   \n",
       "3                         6  ...                 NaN   \n",
       "4                         8  ...                 NaN   \n",
       "\n",
       "  BeforeWeddingFinancialDowryDelayDate  husbandNIN  HusbandMobile  \\\n",
       "0                                  NaN  1089114308   966555333541   \n",
       "1                                  NaN  2081075943   966554495581   \n",
       "2                                  NaN  1070603368      550112123   \n",
       "3                                  NaN  2286891011      535508999   \n",
       "4                                  NaN  1066113190   966557732205   \n",
       "\n",
       "                 HusbanName                    WifeName     wifeNIN  \\\n",
       "0  سلمان محمد مصطفى السوادي  رفعه عبدالله سعيد الشهراني  1035369337   \n",
       "1   ياسر عمار محمد فتحي خلف         ياسمين - - القواسمه  2045390867   \n",
       "2   ممدوح مطر بن خلف العنزي     ريم عبدالله نازل العنزي  1107591040   \n",
       "3     طارق احمد  عبد المجيد             ساره - - المسلط  2158803235   \n",
       "4    زياد مطلق غريب الظفيري   نجاح فهد ابن غريب الظفيري  1093025383   \n",
       "\n",
       "          DOB                    Authname   AuthMobile  \n",
       "0  1964-11-05  عبدالعزيز عايض عون المطيري  555336693.0  \n",
       "1  1988-01-01  عبدالعزيز عايض عون المطيري  555336693.0  \n",
       "2  2000-04-23     مرجي سليمان هليل العنزي  503400543.0  \n",
       "3  2000-01-01  عبدالعزيز عايض عون المطيري  555336693.0  \n",
       "4  1996-08-31     مرجي سليمان هليل العنزي  503400543.0  \n",
       "\n",
       "[5 rows x 21 columns]"
      ]
     },
     "execution_count": 3,
     "metadata": {},
     "output_type": "execute_result"
    }
   ],
   "source": [
    "df=pd.read_csv('resources/ZawajDataset.csv')\n",
    "df.head()"
   ]
  },
  {
   "cell_type": "code",
   "execution_count": 5,
   "metadata": {
    "scrolled": true
   },
   "outputs": [
    {
     "data": {
      "text/plain": [
       "(458, 1502)"
      ]
     },
     "execution_count": 5,
     "metadata": {},
     "output_type": "execute_result"
    }
   ],
   "source": [
    "df.ReferenceIDFromMOj.isna().sum(),len(df)"
   ]
  },
  {
   "cell_type": "code",
   "execution_count": 7,
   "metadata": {},
   "outputs": [
    {
     "data": {
      "text/html": [
       "<div>\n",
       "<style scoped>\n",
       "    .dataframe tbody tr th:only-of-type {\n",
       "        vertical-align: middle;\n",
       "    }\n",
       "\n",
       "    .dataframe tbody tr th {\n",
       "        vertical-align: top;\n",
       "    }\n",
       "\n",
       "    .dataframe thead th {\n",
       "        text-align: right;\n",
       "    }\n",
       "</style>\n",
       "<table border=\"1\" class=\"dataframe\">\n",
       "  <thead>\n",
       "    <tr style=\"text-align: right;\">\n",
       "      <th></th>\n",
       "      <th>MarriageContractID</th>\n",
       "      <th>ContractDate</th>\n",
       "      <th>MarriageContractStatusID</th>\n",
       "    </tr>\n",
       "  </thead>\n",
       "  <tbody>\n",
       "    <tr>\n",
       "      <th>0</th>\n",
       "      <td>1</td>\n",
       "      <td>21-05-2019 18:00</td>\n",
       "      <td>8</td>\n",
       "    </tr>\n",
       "    <tr>\n",
       "      <th>1</th>\n",
       "      <td>2</td>\n",
       "      <td>21-05-2019 23:00</td>\n",
       "      <td>8</td>\n",
       "    </tr>\n",
       "    <tr>\n",
       "      <th>2</th>\n",
       "      <td>3</td>\n",
       "      <td>23-05-2019 21:00</td>\n",
       "      <td>6</td>\n",
       "    </tr>\n",
       "    <tr>\n",
       "      <th>3</th>\n",
       "      <td>4</td>\n",
       "      <td>22-05-2019 18:00</td>\n",
       "      <td>6</td>\n",
       "    </tr>\n",
       "    <tr>\n",
       "      <th>4</th>\n",
       "      <td>5</td>\n",
       "      <td>04-06-2019 19:00</td>\n",
       "      <td>8</td>\n",
       "    </tr>\n",
       "  </tbody>\n",
       "</table>\n",
       "</div>"
      ],
      "text/plain": [
       "   MarriageContractID      ContractDate  MarriageContractStatusID\n",
       "0                   1  21-05-2019 18:00                         8\n",
       "1                   2  21-05-2019 23:00                         8\n",
       "2                   3  23-05-2019 21:00                         6\n",
       "3                   4  22-05-2019 18:00                         6\n",
       "4                   5  04-06-2019 19:00                         8"
      ]
     },
     "execution_count": 7,
     "metadata": {},
     "output_type": "execute_result"
    }
   ],
   "source": [
    "# create new dat frame from origin\n",
    "new_df=df[['MarriageContractID','ContractDate','MarriageContractStatusID']]\n",
    "new_df.head()"
   ]
  },
  {
   "cell_type": "code",
   "execution_count": 12,
   "metadata": {},
   "outputs": [
    {
     "data": {
      "text/plain": [
       "MarriageContractID                         1\n",
       "ContractDate                21-05-2019 18:00\n",
       "MarriageContractStatusID                   8\n",
       "Name: 0, dtype: object"
      ]
     },
     "execution_count": 12,
     "metadata": {},
     "output_type": "execute_result"
    }
   ],
   "source": [
    "#get the first row\n",
    "new_df.loc[0]"
   ]
  },
  {
   "cell_type": "code",
   "execution_count": 13,
   "metadata": {},
   "outputs": [
    {
     "data": {
      "text/plain": [
       "1"
      ]
     },
     "execution_count": 13,
     "metadata": {},
     "output_type": "execute_result"
    }
   ],
   "source": [
    "#get get specific value in row and column\n",
    "new_df.loc[0,'MarriageContractID']# 0 is the first row and 'MarriageContractID' for the column name"
   ]
  },
  {
   "cell_type": "code",
   "execution_count": 17,
   "metadata": {},
   "outputs": [
    {
     "data": {
      "text/plain": [
       "'21-05-2019 18:00'"
      ]
     },
     "execution_count": 17,
     "metadata": {},
     "output_type": "execute_result"
    }
   ],
   "source": [
    "#iloc take only integers as index\n",
    "new_df.iloc[0,1]# 0 for the first row and 1 for the secod column (ContractDate)"
   ]
  }
 ],
 "metadata": {
  "kernelspec": {
   "display_name": "Python 3",
   "language": "python",
   "name": "python3"
  },
  "language_info": {
   "codemirror_mode": {
    "name": "ipython",
    "version": 3
   },
   "file_extension": ".py",
   "mimetype": "text/x-python",
   "name": "python",
   "nbconvert_exporter": "python",
   "pygments_lexer": "ipython3",
   "version": "3.7.6"
  }
 },
 "nbformat": 4,
 "nbformat_minor": 4
}
